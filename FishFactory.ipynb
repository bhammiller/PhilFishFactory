{
  "cells": [
    {
      "metadata": {
        "trusted": true
      },
      "cell_type": "code",
      "source": "import pandas as pd\nimport statsmodels.formula.api as sm\n\nLocation=\"PhilsFishFactoryData.xlsx\"\ndf=pd.read_excel(Location)\n\ndf.head()",
      "execution_count": 10,
      "outputs": [
        {
          "output_type": "execute_result",
          "execution_count": 10,
          "data": {
            "text/html": "<div>\n<style>\n    .dataframe thead tr:only-child th {\n        text-align: right;\n    }\n\n    .dataframe thead th {\n        text-align: left;\n    }\n\n    .dataframe tbody tr th {\n        vertical-align: top;\n    }\n</style>\n<table border=\"1\" class=\"dataframe\">\n  <thead>\n    <tr style=\"text-align: right;\">\n      <th></th>\n      <th>Unnamed: 0</th>\n      <th>Day</th>\n      <th>Wholesale Price ($/lb)</th>\n      <th># Lobsters sold</th>\n    </tr>\n  </thead>\n  <tbody>\n    <tr>\n      <th>0</th>\n      <td>NaN</td>\n      <td>Fri</td>\n      <td>7.0</td>\n      <td>4</td>\n    </tr>\n    <tr>\n      <th>1</th>\n      <td>NaN</td>\n      <td>sat</td>\n      <td>4.0</td>\n      <td>29</td>\n    </tr>\n    <tr>\n      <th>2</th>\n      <td>NaN</td>\n      <td>Sun</td>\n      <td>6.5</td>\n      <td>18</td>\n    </tr>\n    <tr>\n      <th>3</th>\n      <td>NaN</td>\n      <td>Mon</td>\n      <td>5.0</td>\n      <td>17</td>\n    </tr>\n    <tr>\n      <th>4</th>\n      <td>NaN</td>\n      <td>Tue</td>\n      <td>4.0</td>\n      <td>25</td>\n    </tr>\n  </tbody>\n</table>\n</div>",
            "text/plain": "   Unnamed: 0  Day  Wholesale Price ($/lb)  # Lobsters sold\n0         NaN  Fri                     7.0                4\n1         NaN  sat                     4.0               29\n2         NaN  Sun                     6.5               18\n3         NaN  Mon                     5.0               17\n4         NaN  Tue                     4.0               25"
          },
          "metadata": {}
        }
      ]
    },
    {
      "metadata": {
        "trusted": true
      },
      "cell_type": "code",
      "source": "df =df.dropna(axis=1, how='all')\ndf.head()",
      "execution_count": 11,
      "outputs": [
        {
          "output_type": "execute_result",
          "execution_count": 11,
          "data": {
            "text/html": "<div>\n<style>\n    .dataframe thead tr:only-child th {\n        text-align: right;\n    }\n\n    .dataframe thead th {\n        text-align: left;\n    }\n\n    .dataframe tbody tr th {\n        vertical-align: top;\n    }\n</style>\n<table border=\"1\" class=\"dataframe\">\n  <thead>\n    <tr style=\"text-align: right;\">\n      <th></th>\n      <th>Day</th>\n      <th>Wholesale Price ($/lb)</th>\n      <th># Lobsters sold</th>\n    </tr>\n  </thead>\n  <tbody>\n    <tr>\n      <th>0</th>\n      <td>Fri</td>\n      <td>7.0</td>\n      <td>4</td>\n    </tr>\n    <tr>\n      <th>1</th>\n      <td>sat</td>\n      <td>4.0</td>\n      <td>29</td>\n    </tr>\n    <tr>\n      <th>2</th>\n      <td>Sun</td>\n      <td>6.5</td>\n      <td>18</td>\n    </tr>\n    <tr>\n      <th>3</th>\n      <td>Mon</td>\n      <td>5.0</td>\n      <td>17</td>\n    </tr>\n    <tr>\n      <th>4</th>\n      <td>Tue</td>\n      <td>4.0</td>\n      <td>25</td>\n    </tr>\n  </tbody>\n</table>\n</div>",
            "text/plain": "   Day  Wholesale Price ($/lb)  # Lobsters sold\n0  Fri                     7.0                4\n1  sat                     4.0               29\n2  Sun                     6.5               18\n3  Mon                     5.0               17\n4  Tue                     4.0               25"
          },
          "metadata": {}
        }
      ]
    },
    {
      "metadata": {
        "trusted": true
      },
      "cell_type": "code",
      "source": "tolower?",
      "execution_count": 6,
      "outputs": [
        {
          "output_type": "stream",
          "text": "Object `tolower` not found.\n",
          "name": "stdout"
        }
      ]
    },
    {
      "metadata": {
        "trusted": true
      },
      "cell_type": "code",
      "source": "def day_to_num(day):\n    day = str.lower(day)\n    num = 0\n    if day == 'sun':\n        num = 1\n    elif day == 'mon':\n        num = 2\n    elif day == 'tue':\n        num = 3\n    elif day == 'wed':\n        num = 4\n    elif day == 'thur':\n        num = 5\n    elif day == 'fri':\n        num = 6\n    elif day == 'sat':\n        num = 7\n    return num\n#df['DayNum']=day_to_num(df['Day'])\ndf['DayNum']=df['Day'].apply(day_to_num)\nheaders =list(df.columns.values)\nheaders[1]='Price'\nheaders[2]='Num_Sold'\ndf.columns=headers\n#df['Price']=df['Wholesale Price ($/lb)']\n#df['Sold']=df['# Lobsters sold']\ndf.head()",
      "execution_count": 15,
      "outputs": [
        {
          "output_type": "execute_result",
          "execution_count": 15,
          "data": {
            "text/html": "<div>\n<style>\n    .dataframe thead tr:only-child th {\n        text-align: right;\n    }\n\n    .dataframe thead th {\n        text-align: left;\n    }\n\n    .dataframe tbody tr th {\n        vertical-align: top;\n    }\n</style>\n<table border=\"1\" class=\"dataframe\">\n  <thead>\n    <tr style=\"text-align: right;\">\n      <th></th>\n      <th>Day</th>\n      <th>Price</th>\n      <th>Num_Sold</th>\n      <th>DayNum</th>\n    </tr>\n  </thead>\n  <tbody>\n    <tr>\n      <th>0</th>\n      <td>Fri</td>\n      <td>7.0</td>\n      <td>4</td>\n      <td>6</td>\n    </tr>\n    <tr>\n      <th>1</th>\n      <td>sat</td>\n      <td>4.0</td>\n      <td>29</td>\n      <td>7</td>\n    </tr>\n    <tr>\n      <th>2</th>\n      <td>Sun</td>\n      <td>6.5</td>\n      <td>18</td>\n      <td>1</td>\n    </tr>\n    <tr>\n      <th>3</th>\n      <td>Mon</td>\n      <td>5.0</td>\n      <td>17</td>\n      <td>2</td>\n    </tr>\n    <tr>\n      <th>4</th>\n      <td>Tue</td>\n      <td>4.0</td>\n      <td>25</td>\n      <td>3</td>\n    </tr>\n  </tbody>\n</table>\n</div>",
            "text/plain": "   Day  Price  Num_Sold  DayNum\n0  Fri    7.0         4       6\n1  sat    4.0        29       7\n2  Sun    6.5        18       1\n3  Mon    5.0        17       2\n4  Tue    4.0        25       3"
          },
          "metadata": {}
        }
      ]
    },
    {
      "metadata": {
        "trusted": true
      },
      "cell_type": "code",
      "source": "df.corr()",
      "execution_count": 16,
      "outputs": [
        {
          "output_type": "execute_result",
          "execution_count": 16,
          "data": {
            "text/html": "<div>\n<style>\n    .dataframe thead tr:only-child th {\n        text-align: right;\n    }\n\n    .dataframe thead th {\n        text-align: left;\n    }\n\n    .dataframe tbody tr th {\n        vertical-align: top;\n    }\n</style>\n<table border=\"1\" class=\"dataframe\">\n  <thead>\n    <tr style=\"text-align: right;\">\n      <th></th>\n      <th>Price</th>\n      <th>Num_Sold</th>\n      <th>DayNum</th>\n    </tr>\n  </thead>\n  <tbody>\n    <tr>\n      <th>Price</th>\n      <td>1.000000</td>\n      <td>-0.627493</td>\n      <td>0.062190</td>\n    </tr>\n    <tr>\n      <th>Num_Sold</th>\n      <td>-0.627493</td>\n      <td>1.000000</td>\n      <td>-0.250974</td>\n    </tr>\n    <tr>\n      <th>DayNum</th>\n      <td>0.062190</td>\n      <td>-0.250974</td>\n      <td>1.000000</td>\n    </tr>\n  </tbody>\n</table>\n</div>",
            "text/plain": "             Price  Num_Sold    DayNum\nPrice     1.000000 -0.627493  0.062190\nNum_Sold -0.627493  1.000000 -0.250974\nDayNum    0.062190 -0.250974  1.000000"
          },
          "metadata": {}
        }
      ]
    },
    {
      "metadata": {
        "trusted": true
      },
      "cell_type": "code",
      "source": "result = sm.ols(formula='Num_Sold ~ Price -1', data=df).fit()\nresult.summary()",
      "execution_count": 23,
      "outputs": [
        {
          "output_type": "stream",
          "text": "/home/nbuser/anaconda3_501/lib/python3.6/site-packages/scipy/stats/stats.py:1334: UserWarning: kurtosistest only valid for n>=20 ... continuing anyway, n=14\n  \"anyway, n=%i\" % int(n))\n",
          "name": "stderr"
        },
        {
          "output_type": "execute_result",
          "execution_count": 23,
          "data": {
            "text/html": "<table class=\"simpletable\">\n<caption>OLS Regression Results</caption>\n<tr>\n  <th>Dep. Variable:</th>        <td>Num_Sold</td>     <th>  R-squared:         </th> <td>   0.586</td>\n</tr>\n<tr>\n  <th>Model:</th>                   <td>OLS</td>       <th>  Adj. R-squared:    </th> <td>   0.554</td>\n</tr>\n<tr>\n  <th>Method:</th>             <td>Least Squares</td>  <th>  F-statistic:       </th> <td>   18.39</td>\n</tr>\n<tr>\n  <th>Date:</th>             <td>Mon, 01 Oct 2018</td> <th>  Prob (F-statistic):</th> <td>0.000882</td>\n</tr>\n<tr>\n  <th>Time:</th>                 <td>21:07:55</td>     <th>  Log-Likelihood:    </th> <td> -54.659</td>\n</tr>\n<tr>\n  <th>No. Observations:</th>      <td>    14</td>      <th>  AIC:               </th> <td>   111.3</td>\n</tr>\n<tr>\n  <th>Df Residuals:</th>          <td>    13</td>      <th>  BIC:               </th> <td>   112.0</td>\n</tr>\n<tr>\n  <th>Df Model:</th>              <td>     1</td>      <th>                     </th>     <td> </td>   \n</tr>\n<tr>\n  <th>Covariance Type:</th>      <td>nonrobust</td>    <th>                     </th>     <td> </td>   \n</tr>\n</table>\n<table class=\"simpletable\">\n<tr>\n    <td></td>       <th>coef</th>     <th>std err</th>      <th>t</th>      <th>P>|t|</th>  <th>[0.025</th>    <th>0.975]</th>  \n</tr>\n<tr>\n  <th>Price</th> <td>    2.6398</td> <td>    0.616</td> <td>    4.288</td> <td> 0.001</td> <td>    1.310</td> <td>    3.970</td>\n</tr>\n</table>\n<table class=\"simpletable\">\n<tr>\n  <th>Omnibus:</th>       <td> 2.105</td> <th>  Durbin-Watson:     </th> <td>   1.938</td>\n</tr>\n<tr>\n  <th>Prob(Omnibus):</th> <td> 0.349</td> <th>  Jarque-Bera (JB):  </th> <td>   0.948</td>\n</tr>\n<tr>\n  <th>Skew:</th>          <td>-0.049</td> <th>  Prob(JB):          </th> <td>   0.623</td>\n</tr>\n<tr>\n  <th>Kurtosis:</th>      <td> 1.729</td> <th>  Cond. No.          </th> <td>    1.00</td>\n</tr>\n</table>",
            "text/plain": "<class 'statsmodels.iolib.summary.Summary'>\n\"\"\"\n                            OLS Regression Results                            \n==============================================================================\nDep. Variable:               Num_Sold   R-squared:                       0.586\nModel:                            OLS   Adj. R-squared:                  0.554\nMethod:                 Least Squares   F-statistic:                     18.39\nDate:                Mon, 01 Oct 2018   Prob (F-statistic):           0.000882\nTime:                        21:07:55   Log-Likelihood:                -54.659\nNo. Observations:                  14   AIC:                             111.3\nDf Residuals:                      13   BIC:                             112.0\nDf Model:                           1                                         \nCovariance Type:            nonrobust                                         \n==============================================================================\n                 coef    std err          t      P>|t|      [0.025      0.975]\n------------------------------------------------------------------------------\nPrice          2.6398      0.616      4.288      0.001       1.310       3.970\n==============================================================================\nOmnibus:                        2.105   Durbin-Watson:                   1.938\nProb(Omnibus):                  0.349   Jarque-Bera (JB):                0.948\nSkew:                          -0.049   Prob(JB):                        0.623\nKurtosis:                       1.729   Cond. No.                         1.00\n==============================================================================\n\nWarnings:\n[1] Standard Errors assume that the covariance matrix of the errors is correctly specified.\n\"\"\""
          },
          "metadata": {}
        }
      ]
    },
    {
      "metadata": {
        "trusted": true
      },
      "cell_type": "code",
      "source": "df",
      "execution_count": 21,
      "outputs": [
        {
          "output_type": "execute_result",
          "execution_count": 21,
          "data": {
            "text/html": "<div>\n<style>\n    .dataframe thead tr:only-child th {\n        text-align: right;\n    }\n\n    .dataframe thead th {\n        text-align: left;\n    }\n\n    .dataframe tbody tr th {\n        vertical-align: top;\n    }\n</style>\n<table border=\"1\" class=\"dataframe\">\n  <thead>\n    <tr style=\"text-align: right;\">\n      <th></th>\n      <th>Day</th>\n      <th>Price</th>\n      <th>Num_Sold</th>\n      <th>DayNum</th>\n    </tr>\n  </thead>\n  <tbody>\n    <tr>\n      <th>0</th>\n      <td>Fri</td>\n      <td>7.0</td>\n      <td>4</td>\n      <td>6</td>\n    </tr>\n    <tr>\n      <th>1</th>\n      <td>sat</td>\n      <td>4.0</td>\n      <td>29</td>\n      <td>7</td>\n    </tr>\n    <tr>\n      <th>2</th>\n      <td>Sun</td>\n      <td>6.5</td>\n      <td>18</td>\n      <td>1</td>\n    </tr>\n    <tr>\n      <th>3</th>\n      <td>Mon</td>\n      <td>5.0</td>\n      <td>17</td>\n      <td>2</td>\n    </tr>\n    <tr>\n      <th>4</th>\n      <td>Tue</td>\n      <td>4.0</td>\n      <td>25</td>\n      <td>3</td>\n    </tr>\n    <tr>\n      <th>5</th>\n      <td>Wed</td>\n      <td>3.5</td>\n      <td>28</td>\n      <td>4</td>\n    </tr>\n    <tr>\n      <th>6</th>\n      <td>Thur</td>\n      <td>4.5</td>\n      <td>16</td>\n      <td>5</td>\n    </tr>\n    <tr>\n      <th>7</th>\n      <td>Fri</td>\n      <td>7.0</td>\n      <td>4</td>\n      <td>6</td>\n    </tr>\n    <tr>\n      <th>8</th>\n      <td>Sat</td>\n      <td>6.0</td>\n      <td>13</td>\n      <td>7</td>\n    </tr>\n    <tr>\n      <th>9</th>\n      <td>Sun</td>\n      <td>5.5</td>\n      <td>23</td>\n      <td>1</td>\n    </tr>\n    <tr>\n      <th>10</th>\n      <td>Mon</td>\n      <td>6.5</td>\n      <td>8</td>\n      <td>2</td>\n    </tr>\n    <tr>\n      <th>11</th>\n      <td>Tue</td>\n      <td>4.0</td>\n      <td>29</td>\n      <td>3</td>\n    </tr>\n    <tr>\n      <th>12</th>\n      <td>Wed</td>\n      <td>2.5</td>\n      <td>9</td>\n      <td>4</td>\n    </tr>\n    <tr>\n      <th>13</th>\n      <td>Thur</td>\n      <td>7.0</td>\n      <td>6</td>\n      <td>5</td>\n    </tr>\n  </tbody>\n</table>\n</div>",
            "text/plain": "     Day  Price  Num_Sold  DayNum\n0    Fri    7.0         4       6\n1    sat    4.0        29       7\n2    Sun    6.5        18       1\n3    Mon    5.0        17       2\n4    Tue    4.0        25       3\n5    Wed    3.5        28       4\n6   Thur    4.5        16       5\n7    Fri    7.0         4       6\n8    Sat    6.0        13       7\n9    Sun    5.5        23       1\n10   Mon    6.5         8       2\n11   Tue    4.0        29       3\n12   Wed    2.5         9       4\n13  Thur    7.0         6       5"
          },
          "metadata": {}
        }
      ]
    }
  ],
  "metadata": {
    "kernelspec": {
      "name": "python36",
      "display_name": "Python 3.6",
      "language": "python"
    },
    "language_info": {
      "mimetype": "text/x-python",
      "nbconvert_exporter": "python",
      "name": "python",
      "pygments_lexer": "ipython3",
      "version": "3.6.6",
      "file_extension": ".py",
      "codemirror_mode": {
        "version": 3,
        "name": "ipython"
      }
    }
  },
  "nbformat": 4,
  "nbformat_minor": 2
}